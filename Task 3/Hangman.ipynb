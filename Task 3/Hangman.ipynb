{
 "cells": [
  {
   "cell_type": "code",
   "execution_count": 3,
   "id": "eec5ed19-a51e-4a04-baaa-12dd6f3b5cd3",
   "metadata": {},
   "outputs": [
    {
     "name": "stdout",
     "output_type": "stream",
     "text": [
      "\n",
      "Welcome to Hangman!\n",
      "Hint: A common red or green fruit\n",
      "\n",
      "Word: _ _ _ _ _\n",
      "Attempts left: 6\n",
      "Guessed letters: None\n"
     ]
    },
    {
     "name": "stdin",
     "output_type": "stream",
     "text": [
      "Enter a letter:  a\n"
     ]
    },
    {
     "name": "stdout",
     "output_type": "stream",
     "text": [
      "Correct guess.\n",
      "\n",
      "Word: a _ _ _ _\n",
      "Attempts left: 6\n",
      "Guessed letters: a\n"
     ]
    },
    {
     "name": "stdin",
     "output_type": "stream",
     "text": [
      "Enter a letter:  p\n"
     ]
    },
    {
     "name": "stdout",
     "output_type": "stream",
     "text": [
      "Correct guess.\n",
      "\n",
      "Word: a p p _ _\n",
      "Attempts left: 6\n",
      "Guessed letters: a p\n"
     ]
    },
    {
     "name": "stdin",
     "output_type": "stream",
     "text": [
      "Enter a letter:  p\n"
     ]
    },
    {
     "name": "stdout",
     "output_type": "stream",
     "text": [
      "You already guessed that letter.\n",
      "\n",
      "Word: a p p _ _\n",
      "Attempts left: 6\n",
      "Guessed letters: a p\n"
     ]
    },
    {
     "name": "stdin",
     "output_type": "stream",
     "text": [
      "Enter a letter:  l\n"
     ]
    },
    {
     "name": "stdout",
     "output_type": "stream",
     "text": [
      "Correct guess.\n",
      "\n",
      "Word: a p p l _\n",
      "Attempts left: 6\n",
      "Guessed letters: a l p\n"
     ]
    },
    {
     "name": "stdin",
     "output_type": "stream",
     "text": [
      "Enter a letter:  e\n"
     ]
    },
    {
     "name": "stdout",
     "output_type": "stream",
     "text": [
      "Correct guess.\n",
      "\n",
      "Congratulations! You guessed the word: apple\n"
     ]
    },
    {
     "name": "stdin",
     "output_type": "stream",
     "text": [
      "\n",
      "Do you want to play again? (y/n):  n\n"
     ]
    },
    {
     "name": "stdout",
     "output_type": "stream",
     "text": [
      "Thanks for playing!\n"
     ]
    }
   ],
   "source": [
    "#Hangman: Implement the wordguessing game with visual progress and hints.\n",
    "import random\n",
    "word_list = [\n",
    "    (\"apple\", \"A common red or green fruit\"),\n",
    "    (\"tiger\", \"A wild striped big cat\"),\n",
    "    (\"laptop\", \"A portable personal computer\"),\n",
    "    (\"bottle\", \"Used to store water or liquids\"),\n",
    "    (\"rocket\", \"Used to go to space\")\n",
    "]\n",
    "MAX_ATTEMPTS = 6\n",
    "def play_game():\n",
    "    word, hint = random.choice(word_list)\n",
    "    guessed_letters = set()\n",
    "    word_letters = set(word)\n",
    "    attempts_left = MAX_ATTEMPTS\n",
    "\n",
    "    print(\"\\nWelcome to Hangman!\")\n",
    "    print(\"Hint:\", hint)\n",
    "\n",
    "    while attempts_left > 0 and word_letters:\n",
    "        display = [letter if letter in guessed_letters else '_' for letter in word]\n",
    "        print(\"\\nWord:\", \" \".join(display))\n",
    "        print(\"Attempts left:\", attempts_left)\n",
    "        print(\"Guessed letters:\", \" \".join(sorted(guessed_letters)) if guessed_letters else \"None\")\n",
    "\n",
    "        guess = input(\"Enter a letter: \").lower()\n",
    "\n",
    "        if not guess.isalpha() or len(guess) != 1:\n",
    "            print(\"Invalid input. Enter a single alphabet letter.\")\n",
    "            continue\n",
    "\n",
    "        if guess in guessed_letters:\n",
    "            print(\"You already guessed that letter.\")\n",
    "            continue\n",
    "\n",
    "        guessed_letters.add(guess)\n",
    "\n",
    "        if guess in word_letters:\n",
    "            word_letters.remove(guess)\n",
    "            print(\"Correct guess.\")\n",
    "        else:\n",
    "            attempts_left -= 1\n",
    "            print(\"Wrong guess.\")\n",
    "\n",
    "    if not word_letters:\n",
    "        print(\"\\nCongratulations! You guessed the word:\", word)\n",
    "    else:\n",
    "        print(\"\\nYou ran out of attempts. The word was:\", word)\n",
    "\n",
    "def main():\n",
    "    while True:\n",
    "        play_game()\n",
    "        again = input(\"\\nDo you want to play again? (y/n): \").lower()\n",
    "        if again != 'y':\n",
    "            print(\"Thanks for playing!\")\n",
    "            break\n",
    "\n",
    "if __name__ == \"__main__\":\n",
    "    main()\n"
   ]
  }
 ],
 "metadata": {
  "kernelspec": {
   "display_name": "Python 3 (ipykernel)",
   "language": "python",
   "name": "python3"
  },
  "language_info": {
   "codemirror_mode": {
    "name": "ipython",
    "version": 3
   },
   "file_extension": ".py",
   "mimetype": "text/x-python",
   "name": "python",
   "nbconvert_exporter": "python",
   "pygments_lexer": "ipython3",
   "version": "3.13.5"
  }
 },
 "nbformat": 4,
 "nbformat_minor": 5
}

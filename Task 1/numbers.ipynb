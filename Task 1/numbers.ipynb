{
 "cells": [
  {
   "cell_type": "code",
   "execution_count": 1,
   "id": "882a1fda-0913-49af-af7d-7c9ff1b09e09",
   "metadata": {},
   "outputs": [
    {
     "name": "stdout",
     "output_type": "stream",
     "text": [
      "Formatted result: 221\n"
     ]
    }
   ],
   "source": [
    "#1. Write a function that takes two arguments, 145 and 'o', anduses the `format` function to return a formatted string.\n",
    "def format_example(number, format_spec):\n",
    "    result = format(number, format_spec)\n",
    "    return result\n",
    "formatted_value = format_example(145, 'o')\n",
    "print(\"Formatted result:\", formatted_value)\n"
   ]
  },
  {
   "cell_type": "code",
   "execution_count": 2,
   "id": "dad116fc-59f7-4b68-b3a1-1a169496ac7d",
   "metadata": {},
   "outputs": [
    {
     "name": "stdout",
     "output_type": "stream",
     "text": [
      "Total water in the pond (liters): 31018\n"
     ]
    }
   ],
   "source": [
    "# 2. In a village, there is a circular pond with a radius of 84 meters.Calculate the area of the pond using the formula: Circle Area = πr^2. (Use the value 3.14 for π) \n",
    "radius = 84\n",
    "pi = 3.14\n",
    "water_per_sqm = 1.4\n",
    "area = pi * (radius ** 2)\n",
    "total_water = area * water_per_sqm\n",
    "print(\"Total water in the pond (liters):\", int(total_water))\n"
   ]
  },
  {
   "cell_type": "code",
   "execution_count": 3,
   "id": "4516a259-19ed-431d-ba26-c7b395067525",
   "metadata": {},
   "outputs": [
    {
     "name": "stdout",
     "output_type": "stream",
     "text": [
      "Speed in meters per second: 1\n"
     ]
    }
   ],
   "source": [
    "#3. If you cross a 490-meter-long street in 7 minutes, calculate your speed in meters per second. Print the answer without any decimal point in it. \n",
    "distance = 490  # in meters\n",
    "time_minutes = 7\n",
    "time_seconds = time_minutes * 60\n",
    "speed = distance / time_seconds\n",
    "print(\"Speed in meters per second:\", int(speed))\n"
   ]
  }
 ],
 "metadata": {
  "kernelspec": {
   "display_name": "Python 3 (ipykernel)",
   "language": "python",
   "name": "python3"
  },
  "language_info": {
   "codemirror_mode": {
    "name": "ipython",
    "version": 3
   },
   "file_extension": ".py",
   "mimetype": "text/x-python",
   "name": "python",
   "nbconvert_exporter": "python",
   "pygments_lexer": "ipython3",
   "version": "3.13.5"
  }
 },
 "nbformat": 4,
 "nbformat_minor": 5
}

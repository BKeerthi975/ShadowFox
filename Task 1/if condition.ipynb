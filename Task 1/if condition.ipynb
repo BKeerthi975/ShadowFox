{
 "cells": [
  {
   "cell_type": "code",
   "execution_count": 1,
   "id": "8429f6d0-ce02-4a9b-a1b4-524ba3b7e9b1",
   "metadata": {},
   "outputs": [
    {
     "name": "stdin",
     "output_type": "stream",
     "text": [
      "Enter height in meters:  1.75\n",
      "Enter weight in kilograms:  70\n"
     ]
    },
    {
     "name": "stdout",
     "output_type": "stream",
     "text": [
      "Normal\n"
     ]
    }
   ],
   "source": [
    "#1. Write a program to determine the BMI Category based on user input.\n",
    "height = float(input(\"Enter height in meters: \"))\n",
    "weight = float(input(\"Enter weight in kilograms: \"))\n",
    "bmi = weight / (height ** 2)\n",
    "if bmi >= 30:\n",
    "    print(\"Obesity\")\n",
    "elif 25 <= bmi < 30:\n",
    "    print(\"Overweight\")\n",
    "elif 18.5 <= bmi < 25:\n",
    "    print(\"Normal\")\n",
    "else:\n",
    "    print(\"Underweight\")"
   ]
  },
  {
   "cell_type": "code",
   "execution_count": 2,
   "id": "0a9c0fbb-c9a6-45a7-9e12-a5d3c471f2bf",
   "metadata": {},
   "outputs": [
    {
     "name": "stdin",
     "output_type": "stream",
     "text": [
      "Enter a city name:  Mumbai\n"
     ]
    },
    {
     "name": "stdout",
     "output_type": "stream",
     "text": [
      "Mumbai is in India\n"
     ]
    }
   ],
   "source": [
    "#2. Write a program to determine which country a city belongs to.\n",
    "australia = [\"Sydney\", \"Melbourne\", \"Brisbane\", \"Perth\"]\n",
    "uae = [\"Dubai\", \"Abu Dhabi\", \"Sharjah\", \"Ajman\"]\n",
    "india = [\"Mumbai\", \"Bangalore\", \"Chennai\", \"Delhi\"]\n",
    "city = input(\"Enter a city name: \").strip()\n",
    "if city in australia:\n",
    "    print(f\"{city} is in Australia\")\n",
    "elif city in uae:\n",
    "    print(f\"{city} is in UAE\")\n",
    "elif city in india:\n",
    "    print(f\"{city} is in India\")\n",
    "else:\n",
    "    print(f\"{city} is not in the list\")"
   ]
  },
  {
   "cell_type": "code",
   "execution_count": 4,
   "id": "bf972add-97a2-4099-8ae8-f04a7a1f3e96",
   "metadata": {},
   "outputs": [
    {
     "name": "stdin",
     "output_type": "stream",
     "text": [
      "Enter the first city:  Abu Dhabi\n",
      "Enter the second city:  Mumbai\n"
     ]
    },
    {
     "name": "stdout",
     "output_type": "stream",
     "text": [
      "They don't belong to the same country\n"
     ]
    }
   ],
   "source": [
    "#3. Write a program to check if two cities belong to the same country.\n",
    "australia = [\"Sydney\", \"Melbourne\", \"Brisbane\", \"Perth\"]\n",
    "uae = [\"Dubai\", \"Abu Dhabi\", \"Sharjah\", \"Ajman\"]\n",
    "india = [\"Mumbai\", \"Bangalore\", \"Chennai\", \"Delhi\"]\n",
    "city1 = input(\"Enter the first city: \").strip()\n",
    "city2 = input(\"Enter the second city: \").strip()\n",
    "def find_country(city):\n",
    "    if city in australia:\n",
    "        return \"Australia\"\n",
    "    elif city in uae:\n",
    "        return \"UAE\"\n",
    "    elif city in india:\n",
    "        return \"India\"\n",
    "    else:\n",
    "        return None\n",
    "country1 = find_country(city1)\n",
    "country2 = find_country(city2)\n",
    "if country1 and country2:\n",
    "    if country1 == country2:\n",
    "        print(f\"Both cities are in {country1}\")\n",
    "    else:\n",
    "        print(\"They don't belong to the same country\")\n",
    "else:\n",
    "    print(\"One or both cities are not in the list\")"
   ]
  }
 ],
 "metadata": {
  "kernelspec": {
   "display_name": "Python 3 (ipykernel)",
   "language": "python",
   "name": "python3"
  },
  "language_info": {
   "codemirror_mode": {
    "name": "ipython",
    "version": 3
   },
   "file_extension": ".py",
   "mimetype": "text/x-python",
   "name": "python",
   "nbconvert_exporter": "python",
   "pygments_lexer": "ipython3",
   "version": "3.13.5"
  }
 },
 "nbformat": 4,
 "nbformat_minor": 5
}

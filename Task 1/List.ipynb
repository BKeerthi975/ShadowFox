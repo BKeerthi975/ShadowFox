{
 "cells": [
  {
   "cell_type": "code",
   "execution_count": 1,
   "id": "381c83d8-fbe0-4aa8-9562-bf1d7093daf7",
   "metadata": {},
   "outputs": [
    {
     "name": "stdout",
     "output_type": "stream",
     "text": [
      "Initial Justice League: ['Superman', 'Batman', 'Wonder Woman', 'Flash', 'Aquaman', 'Green Lantern']\n",
      "Number of members: 6\n"
     ]
    }
   ],
   "source": [
    "#You have a list of superheroes representing the Justice League. justice_league = [\"Superman\",\"Batman\",\"Wonder Woman\",\"Flash\",\"Aquaman\",\"Green Lantern\"]\n",
    "#1. Calculate the number of members in the Justice League.\n",
    "justice_league = [\"Superman\", \"Batman\", \"Wonder Woman\", \"Flash\", \"Aquaman\", \"Green Lantern\"]\n",
    "print(\"Initial Justice League:\", justice_league)\n",
    "print(\"Number of members:\", len(justice_league))"
   ]
  },
  {
   "cell_type": "code",
   "execution_count": 2,
   "id": "6aee5673-4d07-4d54-86fa-328aa28ad1e7",
   "metadata": {},
   "outputs": [
    {
     "name": "stdout",
     "output_type": "stream",
     "text": [
      "After adding Batgirl and Nightwing: ['Superman', 'Batman', 'Wonder Woman', 'Flash', 'Aquaman', 'Green Lantern', 'Batgirl', 'Nightwing']\n"
     ]
    }
   ],
   "source": [
    "#2. Batman recruited Batgirl and Nightwing as new members.Add them to your list.\n",
    "justice_league.append(\"Batgirl\")\n",
    "justice_league.append(\"Nightwing\")\n",
    "print(\"After adding Batgirl and Nightwing:\", justice_league)"
   ]
  },
  {
   "cell_type": "code",
   "execution_count": 3,
   "id": "eeb7d1a4-2064-4fda-a421-c90ac4627ba9",
   "metadata": {},
   "outputs": [
    {
     "name": "stdout",
     "output_type": "stream",
     "text": [
      "Wonder Woman is now the leader: ['Wonder Woman', 'Superman', 'Batman', 'Flash', 'Aquaman', 'Green Lantern', 'Batgirl', 'Nightwing']\n"
     ]
    }
   ],
   "source": [
    "#3. Wonder Woman is now the leader of the Justice League.Move her to the beginning of the list.\n",
    "justice_league.remove(\"Wonder Woman\")\n",
    "justice_league.insert(0, \"Wonder Woman\")\n",
    "print(\"Wonder Woman is now the leader:\", justice_league)"
   ]
  },
  {
   "cell_type": "code",
   "execution_count": 4,
   "id": "a44af266-c7b5-4757-ad3f-0ff8295b979c",
   "metadata": {},
   "outputs": [
    {
     "name": "stdout",
     "output_type": "stream",
     "text": [
      "Superman moved between Aquaman and Flash: ['Wonder Woman', 'Batman', 'Flash', 'Aquaman', 'Superman', 'Green Lantern', 'Batgirl', 'Nightwing']\n"
     ]
    }
   ],
   "source": [
    "#4. Aquaman and Flash are having conflicts, and you need to separate them. Choose either \"Green Lantern\" or \"Superman\" and move them in between Aquaman and Flash.\n",
    "justice_league.remove(\"Superman\")\n",
    "index_aquaman = justice_league.index(\"Aquaman\")\n",
    "justice_league.insert(index_aquaman + 1, \"Superman\")\n",
    "print(\"Superman moved between Aquaman and Flash:\", justice_league)   "
   ]
  },
  {
   "cell_type": "code",
   "execution_count": 5,
   "id": "34bfe2fb-ec42-4671-b59e-555f307e8d71",
   "metadata": {},
   "outputs": [
    {
     "name": "stdout",
     "output_type": "stream",
     "text": [
      "New Justice League team: ['Cyborg', 'Shazam', 'Hawkgirl', 'Martian Manhunter', 'Green Arrow']\n"
     ]
    }
   ],
   "source": [
    "#5. The Justice League faced a crisis, and Superman decided to assemble a new team. Replace the existing list with the following new members: \"Cyborg\",\"Shazam\",\"Hawkgirl\",\"Martian Manhunter\",\"Green Arrow\".\n",
    "justice_league = [\"Cyborg\", \"Shazam\", \"Hawkgirl\", \"Martian Manhunter\", \"Green Arrow\"]\n",
    "print(\"New Justice League team:\", justice_league)"
   ]
  },
  {
   "cell_type": "code",
   "execution_count": 6,
   "id": "cefb57d9-1114-47da-980f-d1ef490cb8d4",
   "metadata": {},
   "outputs": [
    {
     "name": "stdout",
     "output_type": "stream",
     "text": [
      "Sorted Justice League: ['Cyborg', 'Green Arrow', 'Hawkgirl', 'Martian Manhunter', 'Shazam']\n",
      "New leader at index 0: Cyborg\n"
     ]
    }
   ],
   "source": [
    "#6. Sort the Justice League alphabetically. The hero at the 0th index will become the new leader.\n",
    "justice_league.sort()\n",
    "print(\"Sorted Justice League:\", justice_league)\n",
    "print(\"New leader at index 0:\", justice_league[0])"
   ]
  }
 ],
 "metadata": {
  "kernelspec": {
   "display_name": "Python 3 (ipykernel)",
   "language": "python",
   "name": "python3"
  },
  "language_info": {
   "codemirror_mode": {
    "name": "ipython",
    "version": 3
   },
   "file_extension": ".py",
   "mimetype": "text/x-python",
   "name": "python",
   "nbconvert_exporter": "python",
   "pygments_lexer": "ipython3",
   "version": "3.13.5"
  }
 },
 "nbformat": 4,
 "nbformat_minor": 5
}

{
 "cells": [
  {
   "cell_type": "code",
   "execution_count": 1,
   "id": "1a2542e3-4196-40a4-920f-efe2e16381c8",
   "metadata": {},
   "outputs": [
    {
     "name": "stdout",
     "output_type": "stream",
     "text": [
      "List of name-length tuples:\n",
      "[('Aditya', 6), ('Keerthi', 7), ('Nikhil', 6), ('Sneha', 5), ('Ananya', 6)]\n"
     ]
    }
   ],
   "source": [
    "#1. Create a list of your friends' names. The list should have at least 5 names.Create a list of tuples. Each tuple should contain a friend's name and the length of the name.\n",
    "friends = [\"Aditya\", \"Keerthi\", \"Nikhil\", \"Sneha\", \"Ananya\"]\n",
    "name_length_tuples = [(name, len(name)) for name in friends]\n",
    "print(\"List of name-length tuples:\")\n",
    "print(name_length_tuples)"
   ]
  },
  {
   "cell_type": "code",
   "execution_count": 2,
   "id": "7c84ab19-1881-4550-8f33-59bf746282d6",
   "metadata": {},
   "outputs": [
    {
     "name": "stdout",
     "output_type": "stream",
     "text": [
      "Your total expenses: ₹3000\n",
      "Partner's total expenses: ₹3050\n",
      "Your partner spent more overall.\n",
      "Category with the biggest spending difference: Hotel (₹200)\n"
     ]
    }
   ],
   "source": [
    "#2.You and your partner are planning a trip, and you want to track expenses.Create two dictionaries, one for your expenses and one for your partner's expenses. Each dictionary should contain at least 5 expense categories and their corresponding amounts.\n",
    "your_expenses = {\n",
    "    \"Hotel\": 1200,\n",
    "    \"Food\": 800,\n",
    "    \"Transportation\": 500,\n",
    "    \"Attractions\": 300,\n",
    "    \"Miscellaneous\": 200\n",
    "}\n",
    "partner_expenses = {\n",
    "    \"Hotel\": 1000,\n",
    "    \"Food\": 900,\n",
    "    \"Transportation\": 600,\n",
    "    \"Attractions\": 400,\n",
    "    \"Miscellaneous\": 150\n",
    "}\n",
    "your_total = sum(your_expenses.values())\n",
    "partner_total = sum(partner_expenses.values())\n",
    "print(f\"Your total expenses: ₹{your_total}\")\n",
    "print(f\"Partner's total expenses: ₹{partner_total}\")\n",
    "if your_total > partner_total:\n",
    "    print(\"You spent more overall.\")\n",
    "elif partner_total > your_total:\n",
    "    print(\"Your partner spent more overall.\")\n",
    "else:\n",
    "    print(\"You both spent the same amount.\")\n",
    "max_diff = 0\n",
    "max_diff_category = \"\"\n",
    "for category in your_expenses:\n",
    "    difference = abs(your_expenses[category] - partner_expenses[category])\n",
    "    if difference > max_diff:\n",
    "        max_diff = difference\n",
    "        max_diff_category = category\n",
    "\n",
    "print(f\"Category with the biggest spending difference: {max_diff_category} (₹{max_diff})\")"
   ]
  }
 ],
 "metadata": {
  "kernelspec": {
   "display_name": "Python 3 (ipykernel)",
   "language": "python",
   "name": "python3"
  },
  "language_info": {
   "codemirror_mode": {
    "name": "ipython",
    "version": 3
   },
   "file_extension": ".py",
   "mimetype": "text/x-python",
   "name": "python",
   "nbconvert_exporter": "python",
   "pygments_lexer": "ipython3",
   "version": "3.13.5"
  }
 },
 "nbformat": 4,
 "nbformat_minor": 5
}
